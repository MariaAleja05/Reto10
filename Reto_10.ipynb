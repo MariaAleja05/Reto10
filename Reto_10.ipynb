{
  "nbformat": 4,
  "nbformat_minor": 0,
  "metadata": {
    "colab": {
      "provenance": []
    },
    "kernelspec": {
      "name": "python3",
      "display_name": "Python 3"
    },
    "language_info": {
      "name": "python"
    }
  },
  "cells": [
    {
      "cell_type": "markdown",
      "source": [
        "##**Punto 1**"
      ],
      "metadata": {
        "id": "5zgi4y16ISj4"
      }
    },
    {
      "cell_type": "markdown",
      "source": [
        "**Enunciado:** Desarrollar un algoritmo que calcule el promedio de un arreglo de reales."
      ],
      "metadata": {
        "id": "nPVRZ-MVIVpx"
      }
    },
    {
      "cell_type": "code",
      "execution_count": 43,
      "metadata": {
        "id": "NgPHPDF1uDC7",
        "colab": {
          "base_uri": "https://localhost:8080/"
        },
        "outputId": "1b14f087-b56e-4ceb-e163-09e90f18f2e7"
      },
      "outputs": [
        {
          "output_type": "stream",
          "name": "stdout",
          "text": [
            "Ingrese la cantidad de elementos que desea que tenga la lista:3\n",
            "Ingrese un valor real:50\n",
            "Ingrese un valor real:89\n",
            "Ingrese un valor real:69\n",
            "----------------------------------------------------------------\n",
            "[50.0, 89.0, 69.0]\n",
            "El promedio de los valores es 69.33333333333333\n"
          ]
        }
      ],
      "source": [
        "def Promedio(*args) -> float:\n",
        "  suma=0\n",
        "  promedio=0\n",
        "  for i in lista:\n",
        "    suma += i\n",
        "  promedio = suma/len(lista)\n",
        "  return promedio\n",
        "\n",
        "if __name__ == \"__main__\":\n",
        "  elemento=0\n",
        "  lista=[]\n",
        "  j = int(input(\"Ingrese la cantidad de elementos que desea que tenga la lista:\"))\n",
        "  for elemento in range (j):\n",
        "    elemento = float(input(\"Ingrese un valor real:\"))\n",
        "    lista.append(elemento)\n",
        "  rta = Promedio(elemento)\n",
        "  print(\"----------------------------------------------------------------\")\n",
        "  print(lista)\n",
        "  print(\"El promedio de los valores es \" + str(rta))"
      ]
    },
    {
      "cell_type": "markdown",
      "source": [
        "##**Punto 2**"
      ],
      "metadata": {
        "id": "VGVcvv9HIYSU"
      }
    },
    {
      "cell_type": "markdown",
      "source": [
        "**Enunciado:** Desarrollar un algoritmo que calcule el producto punto de dos arreglos de números enteros (reales) de igual tamaño."
      ],
      "metadata": {
        "id": "PEFiUCfnIgOR"
      }
    },
    {
      "cell_type": "code",
      "source": [
        "def ProductoPunto(vector1, vector2) -> float:\n",
        "  productoPunto=0\n",
        "  i=0\n",
        "  for i in range (j):\n",
        "    productoPunto += (vector1[i]*vector2[i])\n",
        "  return productoPunto\n",
        "\n",
        "if __name__ == \"__main__\":\n",
        "  elemento1=0\n",
        "  elemento2=0\n",
        "  vector1=[]\n",
        "  vector2=[]\n",
        "  j = int(input(\"Ingrese la cantidad de elementos que desea que tenga los vectores:\"))\n",
        "  for elemento1 in range (j):\n",
        "    elemento1 = int(input(\"Ingrese un valor real para el primer vector:\"))\n",
        "    vector1.append(elemento1)\n",
        "  for elemento2 in range (j):\n",
        "    elemento2 = int(input(\"Ingrese un valor real para el segundo vector:\"))\n",
        "    vector2.append(elemento2)\n",
        "  rta = ProductoPunto(vector1, vector2)\n",
        "  print(\"----------------------------------------------------------------\")\n",
        "  print(vector1)\n",
        "  print(vector2)\n",
        "  print(\"El punto medio es: \" + str(rta))"
      ],
      "metadata": {
        "id": "x4OjLj0FIj8c",
        "colab": {
          "base_uri": "https://localhost:8080/"
        },
        "outputId": "d701a6c2-3b05-46d4-846d-33139f4a67a1"
      },
      "execution_count": 33,
      "outputs": [
        {
          "output_type": "stream",
          "name": "stdout",
          "text": [
            "Ingrese la cantidad de elementos que desea que tenga los vectores:2\n",
            "Ingrese un valor real para el primer vector:1\n",
            "Ingrese un valor real para el primer vector:2\n",
            "Ingrese un valor real para el segundo vector:2\n",
            "Ingrese un valor real para el segundo vector:1\n",
            "----------------------------------------------------------------\n",
            "[1, 2]\n",
            "[2, 1]\n",
            "El punto medio es: 4\n"
          ]
        }
      ]
    },
    {
      "cell_type": "markdown",
      "source": [
        "##**Punto 3**"
      ],
      "metadata": {
        "id": "3YTSW3u8IkUD"
      }
    },
    {
      "cell_type": "markdown",
      "source": [
        "**Enunciado:** Hacer un algoritmo que deje al final de un arreglo de números todos los ceros que aparezcan en dicho arreglo."
      ],
      "metadata": {
        "id": "iM1ibAsyImJX"
      }
    },
    {
      "cell_type": "code",
      "source": [
        "if __name__ == \"__main__\":\n",
        "  lista=[]\n",
        "  elemento=0\n",
        "  j = int(input(\"Ingrese la cantidad de elementos que desea que tenga el arreglo:\"))\n",
        "  for elemento in range (j):\n",
        "    elemento = int(input(\"Ingrese un valor real:\"))\n",
        "    lista.append(elemento)\n",
        "  print(\"----------------------------------------------------------------\")\n",
        "  print(lista)\n",
        "  print(\"El número de 0 que aparecen en el arreglo son: \" + str(lista.count(0)))"
      ],
      "metadata": {
        "id": "0UOEmt4YIpzU",
        "colab": {
          "base_uri": "https://localhost:8080/"
        },
        "outputId": "521c0a30-227b-4752-e8f7-6a3975501e75"
      },
      "execution_count": 41,
      "outputs": [
        {
          "output_type": "stream",
          "name": "stdout",
          "text": [
            "Ingrese la cantidad de elementos que desea que tenga el arreglo:3\n",
            "Ingrese un valor real:0\n",
            "Ingrese un valor real:0\n",
            "Ingrese un valor real:5\n",
            "----------------------------------------------------------------\n",
            "[0, 0, 5]\n",
            "El número de 0 que aparecen en el arreglo son: 2\n"
          ]
        }
      ]
    }
  ]
}